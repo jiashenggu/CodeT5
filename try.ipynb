{
 "cells": [
  {
   "cell_type": "code",
   "execution_count": 5,
   "metadata": {},
   "outputs": [
    {
     "name": "stdout",
     "output_type": "stream",
     "text": [
      "Convert a SVG string to a QImage.\n"
     ]
    }
   ],
   "source": [
    "from transformers import RobertaTokenizer, T5ForConditionalGeneration, T5EncoderModel\n",
    "\n",
    "if __name__ == '__main__':\n",
    "    tokenizer = RobertaTokenizer.from_pretrained('Salesforce/codet5-small')\n",
    "    model = T5ForConditionalGeneration.from_pretrained('Salesforce/codet5-base-multi-sum')\n",
    "\n",
    "    text = \"\"\"def svg_to_image(string, size=None):\n",
    "    if isinstance(string, unicode):\n",
    "        string = string.encode('utf-8')\n",
    "        renderer = QtSvg.QSvgRenderer(QtCore.QByteArray(string))\n",
    "    if not renderer.isValid():\n",
    "        raise ValueError('Invalid SVG data.')\n",
    "    if size is None:\n",
    "        size = renderer.defaultSize()\n",
    "        image = QtGui.QImage(size, QtGui.QImage.Format_ARGB32)\n",
    "        painter = QtGui.QPainter(image)\n",
    "        renderer.render(painter)\n",
    "    return image\"\"\"\n",
    "\n",
    "    input_ids = tokenizer(text, return_tensors=\"pt\").input_ids\n",
    "\n",
    "    generated_ids = model.generate(input_ids, max_length=20)\n",
    "    print(tokenizer.decode(generated_ids[0], skip_special_tokens=True))\n",
    "    # this prints: \"Convert a SVG string to a QImage.\""
   ]
  },
  {
   "cell_type": "code",
   "execution_count": null,
   "metadata": {},
   "outputs": [],
   "source": [
    "encoder = T5EncoderModel.from_pretrained('Salesforce/codet5-base-multi-sum')"
   ]
  },
  {
   "cell_type": "code",
   "execution_count": 9,
   "metadata": {},
   "outputs": [],
   "source": [
    "outputs = encoder(input_ids=input_ids)"
   ]
  },
  {
   "cell_type": "code",
   "execution_count": null,
   "metadata": {},
   "outputs": [],
   "source": []
  }
 ],
 "metadata": {
  "kernelspec": {
   "display_name": "Python 3.10.4 ('codet5')",
   "language": "python",
   "name": "python3"
  },
  "language_info": {
   "codemirror_mode": {
    "name": "ipython",
    "version": 3
   },
   "file_extension": ".py",
   "mimetype": "text/x-python",
   "name": "python",
   "nbconvert_exporter": "python",
   "pygments_lexer": "ipython3",
   "version": "3.10.4"
  },
  "orig_nbformat": 4,
  "vscode": {
   "interpreter": {
    "hash": "70a462d2c6cbffda0412b999ccbf44c3a2767f622cf4cc7f4e4e8fbea369c7d9"
   }
  }
 },
 "nbformat": 4,
 "nbformat_minor": 2
}
